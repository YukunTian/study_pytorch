{
 "cells": [
  {
   "cell_type": "markdown",
   "id": "9243be7b",
   "metadata": {},
   "source": [
    "# 52 文本预处理"
   ]
  },
  {
   "cell_type": "markdown",
   "id": "bc1db595",
   "metadata": {},
   "source": [
    "### 文本的常见预处理步骤。这些步骤通常包括:\n",
    "#### 1.将文本作为字符串加载到内存中。\n",
    "#### 2.将字符串拆分为词元（如单词和字符)。\n",
    "#### 3.建立一个词表，将拆分的词元映射到数字索引。\n",
    "#### 4.将文本转换为数字索引序列，方便模型操作。"
   ]
  },
  {
   "cell_type": "code",
   "execution_count": 2,
   "id": "d38efbab",
   "metadata": {
    "ExecuteTime": {
     "end_time": "2023-10-11T01:28:48.936478Z",
     "start_time": "2023-10-11T01:28:38.391266Z"
    }
   },
   "outputs": [],
   "source": [
    "import collections\n",
    "import re\n",
    "from d2l import torch as d2l"
   ]
  },
  {
   "cell_type": "markdown",
   "id": "f1f08222",
   "metadata": {},
   "source": [
    "## 1 读取数据集"
   ]
  },
  {
   "cell_type": "markdown",
   "id": "47931893",
   "metadata": {},
   "source": [
    "下面的函数将数据集读取到由多条文本行组成的列表中，其中每条文本行都是一个字符串。 为简单起见，我们在这里忽略了标点符号和字母大写。"
   ]
  },
  {
   "cell_type": "code",
   "execution_count": 3,
   "id": "00f7d913",
   "metadata": {
    "ExecuteTime": {
     "end_time": "2023-10-11T01:45:08.089007Z",
     "start_time": "2023-10-11T01:45:05.984664Z"
    }
   },
   "outputs": [
    {
     "name": "stdout",
     "output_type": "stream",
     "text": [
      "Downloading ..\\data\\timemachine.txt from http://d2l-data.s3-accelerate.amazonaws.com/timemachine.txt...\n",
      "# 文本总行数: 3221\n",
      "the time machine by h g wells\n",
      "twinkled and his usually pale face was flushed and animated the\n"
     ]
    }
   ],
   "source": [
    "d2l.DATA_HUB['time_machine'] = (d2l.DATA_URL + 'timemachine.txt',\n",
    "                                '090b5e7e70c295757f55df93cb0a180b9691891a')\n",
    "\n",
    "def read_time_machine():  #@save\n",
    "    \"\"\"将时间机器数据集加载到文本行的列表中\"\"\"\n",
    "    with open(d2l.download('time_machine'), 'r') as f:\n",
    "        lines = f.readlines()\n",
    "    # re.sub()，该函数主要用于替换字符串中的匹配项  '[^A-Za-z]+', ' '表示匹配单个非字母，并将单个非字母替换为一个空格\n",
    "    return [re.sub('[^A-Za-z]+', ' ', line).strip().lower() for line in lines]\n",
    "\n",
    "lines = read_time_machine()\n",
    "print(f'# 文本总行数: {len(lines)}')\n",
    "print(lines[0])\n",
    "print(lines[10])"
   ]
  },
  {
   "cell_type": "markdown",
   "id": "1daed853",
   "metadata": {},
   "source": [
    "## 2 词元化"
   ]
  },
  {
   "cell_type": "markdown",
   "id": "3e6e57d8",
   "metadata": {},
   "source": [
    "下面的tokenize函数将文本行列表（lines）作为输入， 列表中的每个元素是一个文本序列（如一条文本行）。 </br>\n",
    "每个文本序列又被拆分成一个词元列表，词元（token）是文本的基本单位。</br>\n",
    "最后，返回一个由词元列表组成的列表，其中的每个词元都是一个字符串（string）。"
   ]
  },
  {
   "cell_type": "code",
   "execution_count": 4,
   "id": "4687cd68",
   "metadata": {
    "ExecuteTime": {
     "end_time": "2023-10-11T02:04:14.461318Z",
     "start_time": "2023-10-11T02:04:14.447073Z"
    }
   },
   "outputs": [
    {
     "name": "stdout",
     "output_type": "stream",
     "text": [
      "['the', 'time', 'machine', 'by', 'h', 'g', 'wells']\n",
      "[]\n",
      "[]\n",
      "[]\n",
      "[]\n",
      "['i']\n",
      "[]\n",
      "[]\n",
      "['the', 'time', 'traveller', 'for', 'so', 'it', 'will', 'be', 'convenient', 'to', 'speak', 'of', 'him']\n",
      "['was', 'expounding', 'a', 'recondite', 'matter', 'to', 'us', 'his', 'grey', 'eyes', 'shone', 'and']\n",
      "['twinkled', 'and', 'his', 'usually', 'pale', 'face', 'was', 'flushed', 'and', 'animated', 'the']\n"
     ]
    }
   ],
   "source": [
    "def tokenize(lines, token='word'):  #@save\n",
    "    \"\"\"将文本行拆分为单词或字符词元\"\"\"\n",
    "    if token == 'word':\n",
    "        return [line.split() for line in lines]\n",
    "    elif token == 'char':\n",
    "        return [list(line) for line in lines]\n",
    "    else:\n",
    "        print('错误：未知词元类型：' + token)\n",
    "\n",
    "tokens = tokenize(lines)\n",
    "for i in range(11):\n",
    "    print(tokens[i])"
   ]
  },
  {
   "cell_type": "markdown",
   "id": "7ecbe698",
   "metadata": {},
   "source": [
    "## 3 词表"
   ]
  },
  {
   "cell_type": "markdown",
   "id": "24321ada",
   "metadata": {},
   "source": [
    "词元的类型是字符串，而模型需要的输入是数字，因此这种类型不方便模型使用。 </br>\n",
    "现在，让我们构建一个字典，通常也叫做词表（vocabulary）， 用来将字符串类型的词元映射到从0开始的数字索引中。</br>\n",
    "我们先将训练集中的所有文档合并在一起，对它们的唯一词元进行统计， 得到的统计结果称之为语料（corpus）。</br>\n",
    "然后根据每个唯一词元的出现频率，为其分配一个数字索引。 很少出现的词元通常被移除，这可以降低复杂性。 </br>\n",
    "另外，语料库中不存在或已删除的任何词元都将映射到一个特定的未知词元“\\<unk\\>”。 </br>\n",
    "我们可以选择增加一个列表，用于保存那些被保留的词元， 例如：填充词元（“\\<pad\\>”）； 序列开始词元（“\\<bos\\>”）； 序列结束词元（“\\<eos\\>”）。"
   ]
  },
  {
   "cell_type": "code",
   "execution_count": 5,
   "id": "b1735b75",
   "metadata": {
    "ExecuteTime": {
     "end_time": "2023-10-11T02:17:45.834441Z",
     "start_time": "2023-10-11T02:17:45.811272Z"
    }
   },
   "outputs": [],
   "source": [
    "class Vocab:  #@save\n",
    "    \"\"\"文本词表\"\"\"\n",
    "    # reserved_tokens用于告知句子的开始和结束\n",
    "    def __init__(self, tokens=None, min_freq=0, reserved_tokens=None):\n",
    "        if tokens is None:\n",
    "            tokens = []\n",
    "        if reserved_tokens is None:\n",
    "            reserved_tokens = []\n",
    "        # 按出现频率排序\n",
    "        counter = count_corpus(tokens)\n",
    "        # key=lambda x: x[1]按计数器的value排序\n",
    "        self._token_freqs = sorted(counter.items(), key=lambda x: x[1],\n",
    "                                   reverse=True)\n",
    "        # 未知词元的索引为0\n",
    "        self.idx_to_token = ['<unk>'] + reserved_tokens\n",
    "        self.token_to_idx = {token: idx\n",
    "                             for idx, token in enumerate(self.idx_to_token)}\n",
    "        for token, freq in self._token_freqs:\n",
    "            if freq < min_freq:\n",
    "                break\n",
    "            if token not in self.token_to_idx:\n",
    "                # 数对应词\n",
    "                self.idx_to_token.append(token)\n",
    "                # 词对应数\n",
    "                self.token_to_idx[token] = len(self.idx_to_token) - 1\n",
    "\n",
    "    def __len__(self):\n",
    "        return len(self.idx_to_token)\n",
    "\n",
    "    # 给token返回index\n",
    "    def __getitem__(self, tokens):\n",
    "        if not isinstance(tokens, (list, tuple)):\n",
    "            # 字典中根据key=tokens查找value 没有则返回unk\n",
    "            return self.token_to_idx.get(tokens, self.unk)\n",
    "        return [self.__getitem__(token) for token in tokens]\n",
    "\n",
    "    # 给index返回token\n",
    "    def to_tokens(self, indices):\n",
    "        # isinstance对象的类型与参数二的类型（classinfo）相同则返回 True 是list或是tuple\n",
    "        if not isinstance(indices, (list, tuple)):\n",
    "            return self.idx_to_token[indices]\n",
    "        return [self.idx_to_token[index] for index in indices]\n",
    "\n",
    "    @property\n",
    "    def unk(self):  # 未知词元的索引为0\n",
    "        return 0\n",
    "\n",
    "    @property\n",
    "    def token_freqs(self):\n",
    "        return self._token_freqs\n",
    "\n",
    "def count_corpus(tokens):  #@save\n",
    "    \"\"\"统计词元的频率\"\"\"\n",
    "    # 这里的tokens是1D列表或2D列表\n",
    "    if len(tokens) == 0 or isinstance(tokens[0], list):\n",
    "        # 将词元列表展平成一个列表\n",
    "        tokens = [token for line in tokens for token in line]\n",
    "    # collections.Counter可以支持方便、快速的计数，将元素数量统计，然后计数并返回一个字典，键为元素，值为元素个数\n",
    "    return collections.Counter(tokens)"
   ]
  },
  {
   "cell_type": "markdown",
   "id": "f88718c5",
   "metadata": {},
   "source": [
    "首先使用时光机器数据集作为语料库来构建词表，然后打印前几个高频词元及其索引"
   ]
  },
  {
   "cell_type": "code",
   "execution_count": 6,
   "id": "fe94c42b",
   "metadata": {
    "ExecuteTime": {
     "end_time": "2023-10-11T02:38:05.593526Z",
     "start_time": "2023-10-11T02:38:05.576281Z"
    }
   },
   "outputs": [
    {
     "name": "stdout",
     "output_type": "stream",
     "text": [
      "[('<unk>', 0), ('the', 1), ('i', 2), ('and', 3), ('of', 4), ('a', 5), ('to', 6), ('was', 7), ('in', 8), ('that', 9)]\n"
     ]
    }
   ],
   "source": [
    "vocab = Vocab(tokens)\n",
    "print(list(vocab.token_to_idx.items())[:10])"
   ]
  },
  {
   "cell_type": "markdown",
   "id": "06d24f3b",
   "metadata": {},
   "source": [
    "将每一条文本行转换成一个数字索引列表"
   ]
  },
  {
   "cell_type": "code",
   "execution_count": 7,
   "id": "aaf2b43b",
   "metadata": {
    "ExecuteTime": {
     "end_time": "2023-10-11T02:38:29.903242Z",
     "start_time": "2023-10-11T02:38:29.890234Z"
    }
   },
   "outputs": [
    {
     "name": "stdout",
     "output_type": "stream",
     "text": [
      "文本: ['the', 'time', 'machine', 'by', 'h', 'g', 'wells']\n",
      "索引: [1, 19, 50, 40, 2183, 2184, 400]\n",
      "文本: ['twinkled', 'and', 'his', 'usually', 'pale', 'face', 'was', 'flushed', 'and', 'animated', 'the']\n",
      "索引: [2186, 3, 25, 1044, 362, 113, 7, 1421, 3, 1045, 1]\n"
     ]
    }
   ],
   "source": [
    "for i in [0, 10]:\n",
    "    print('文本:', tokens[i])\n",
    "    print('索引:', vocab[tokens[i]])"
   ]
  },
  {
   "cell_type": "markdown",
   "id": "db46adb1",
   "metadata": {},
   "source": [
    "## 4 整合所有功能"
   ]
  },
  {
   "cell_type": "markdown",
   "id": "d187762f",
   "metadata": {},
   "source": [
    "在使用上述函数时，我们将所有功能打包到load_corpus_time_machine函数中，</br>\n",
    "该函数返回corpus(词元索引列表)和vocab(时光机器语料库的词表)。我们在这里所做的改变是:</br>\n",
    "1 为了简化后面章节中的训练，我们使用字符(而不是单词)实现文本词元化</br>\n",
    "2 时光机器数据集中的每个文本行不一定是一个句子或一个段落，还可能是一个单词，因此返回的corpus仅处理为单个列表，而不是使用多词元列表构成的一个列表。\n"
   ]
  },
  {
   "cell_type": "code",
   "execution_count": 8,
   "id": "c27adb23",
   "metadata": {
    "ExecuteTime": {
     "end_time": "2023-10-11T02:40:20.312258Z",
     "start_time": "2023-10-11T02:40:20.224490Z"
    }
   },
   "outputs": [
    {
     "data": {
      "text/plain": [
       "(170580, 28)"
      ]
     },
     "execution_count": 8,
     "metadata": {},
     "output_type": "execute_result"
    }
   ],
   "source": [
    "def load_corpus_time_machine(max_tokens=-1):  \n",
    "    \"\"\"返回时光机器数据集的词元索引列表和词表\"\"\"\n",
    "    lines = read_time_machine()\n",
    "    tokens = tokenize(lines, 'char')\n",
    "    vocab = Vocab(tokens)\n",
    "    # 因为时光机器数据集中的每个文本行不一定是一个句子或一个段落，\n",
    "    # 所以将所有文本行展平到一个列表中\n",
    "    corpus = [vocab[token] for line in tokens for token in line]\n",
    "    if max_tokens > 0:\n",
    "        corpus = corpus[:max_tokens]\n",
    "    return corpus, vocab\n",
    "\n",
    "corpus, vocab = load_corpus_time_machine()\n",
    "len(corpus), len(vocab)"
   ]
  },
  {
   "cell_type": "markdown",
   "id": "7926e016",
   "metadata": {},
   "source": [
    "文本是序列数据的一种最常见的形式之一。\n",
    "</br>\n",
    "为了对文本进行预处理，我们通常将文本拆分为词元，构建词表将词元字符串映射为数字索引，并将文本数据转换为词元索引以供模型操作"
   ]
  }
 ],
 "metadata": {
  "kernelspec": {
   "display_name": "Python 3 (ipykernel)",
   "language": "python",
   "name": "python3"
  },
  "language_info": {
   "codemirror_mode": {
    "name": "ipython",
    "version": 3
   },
   "file_extension": ".py",
   "mimetype": "text/x-python",
   "name": "python",
   "nbconvert_exporter": "python",
   "pygments_lexer": "ipython3",
   "version": "3.9.17"
  }
 },
 "nbformat": 4,
 "nbformat_minor": 5
}
