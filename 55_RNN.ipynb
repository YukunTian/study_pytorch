{
 "cells": [
  {
   "cell_type": "markdown",
   "id": "0259dc68",
   "metadata": {},
   "source": [
    "# 55 RNN"
   ]
  },
  {
   "cell_type": "markdown",
   "id": "5b456a6e",
   "metadata": {},
   "source": [
    "## 1 循环神经网络的从零开始实现"
   ]
  },
  {
   "cell_type": "code",
   "execution_count": 1,
   "id": "14e615e6",
   "metadata": {
    "ExecuteTime": {
     "end_time": "2023-10-13T07:12:20.656491Z",
     "start_time": "2023-10-13T07:12:09.079226Z"
    }
   },
   "outputs": [],
   "source": [
    "%matplotlib inline\n",
    "import math\n",
    "import torch\n",
    "from torch import nn\n",
    "from torch.nn import functional as F\n",
    "from d2l import torch as d2l\n",
    "\n",
    "batch_size, num_steps = 32, 35\n",
    "train_iter, vocab = d2l.load_data_time_machine(batch_size, num_steps)"
   ]
  },
  {
   "cell_type": "markdown",
   "id": "3daf0c12",
   "metadata": {},
   "source": [
    "### 1.1 独热编码（one-hot encoding）\n",
    "简言之，将每个索引映射为相互不同的单位向量:假设词表中不同词元的数目为N(即len(vocab))，词元索引的范围为0到N-1。如果词元的索引是整数i，那么我们将创建一个长度为N的全0向量，并将第i处的元素设置为1。此向量是原始词元的一个独热向量。\n",
    "</br>\n",
    "索引为0和2的独热向量如下所示:"
   ]
  },
  {
   "cell_type": "code",
   "execution_count": 2,
   "id": "8f102b4b",
   "metadata": {
    "ExecuteTime": {
     "end_time": "2023-10-13T07:25:06.553638Z",
     "start_time": "2023-10-13T07:25:06.037977Z"
    }
   },
   "outputs": [
    {
     "data": {
      "text/plain": [
       "tensor([[1, 0, 0, 0, 0, 0, 0, 0, 0, 0, 0, 0, 0, 0, 0, 0, 0, 0, 0, 0, 0, 0, 0, 0,\n",
       "         0, 0, 0, 0],\n",
       "        [0, 0, 1, 0, 0, 0, 0, 0, 0, 0, 0, 0, 0, 0, 0, 0, 0, 0, 0, 0, 0, 0, 0, 0,\n",
       "         0, 0, 0, 0]])"
      ]
     },
     "execution_count": 2,
     "metadata": {},
     "output_type": "execute_result"
    }
   ],
   "source": [
    "F.one_hot(torch.tensor([0, 2]), len(vocab))"
   ]
  },
  {
   "cell_type": "markdown",
   "id": "9e9672e4",
   "metadata": {},
   "source": [
    "每次采样的小批量数据形状是二维张量：（批量大小，时间步数）。 </br>\n",
    "one_hot函数将这样一个小批量数据转换成三维张量，张量的最后一个维度等于词表大小（len(vocab)）。</br>\n",
    "我们经常转换输入的维度，以便获得形状为（时间步数，批量大小，词表大小）的输出。</br>\n",
    "这将使我们能够更方便地通过最外层的维度 一步一步地更新小批量数据的隐状态。"
   ]
  },
  {
   "cell_type": "code",
   "execution_count": 13,
   "id": "e9356edf",
   "metadata": {
    "ExecuteTime": {
     "end_time": "2023-10-13T08:00:07.759608Z",
     "start_time": "2023-10-13T08:00:07.740124Z"
    }
   },
   "outputs": [
    {
     "data": {
      "text/plain": [
       "torch.Size([5, 2, 28])"
      ]
     },
     "execution_count": 13,
     "metadata": {},
     "output_type": "execute_result"
    }
   ],
   "source": [
    "X = torch.arange(10).reshape((2, 5))\n",
    "F.one_hot(X.T, 28).shape"
   ]
  },
  {
   "cell_type": "markdown",
   "id": "9bdb81e4",
   "metadata": {
    "ExecuteTime": {
     "end_time": "2023-10-13T07:27:27.582913Z",
     "start_time": "2023-10-13T07:27:27.574949Z"
    }
   },
   "source": [
    "### 1.2 初始化模型参数\n",
    "接下来，我们初始化循环神经网络模型的模型参数。 隐藏单元数num_hiddens是一个可调的超参数。 当训练语言模型时，输入和输出来自相同的词表。 因此，它们具有相同的维度，即词表的大小。"
   ]
  },
  {
   "cell_type": "code",
   "execution_count": 5,
   "id": "a1f6087d",
   "metadata": {
    "ExecuteTime": {
     "end_time": "2023-10-13T07:28:17.026158Z",
     "start_time": "2023-10-13T07:28:17.012199Z"
    }
   },
   "outputs": [],
   "source": [
    "def get_params(vocab_size, num_hiddens, device):\n",
    "    # 输入的词经过onehot后是长为vocab_size的向量，输出就是预测下一个词，也得是长为vocab_size的向量\n",
    "    num_inputs = num_outputs = vocab_size\n",
    "\n",
    "    def normal(shape):\n",
    "        return torch.randn(size=shape, device=device) * 0.01\n",
    "\n",
    "    # 隐藏层参数\n",
    "    W_xh = normal((num_inputs, num_hiddens))\n",
    "    W_hh = normal((num_hiddens, num_hiddens))\n",
    "    b_h = torch.zeros(num_hiddens, device=device)\n",
    "    # 输出层参数\n",
    "    W_hq = normal((num_hiddens, num_outputs))\n",
    "    b_q = torch.zeros(num_outputs, device=device)\n",
    "    # 附加梯度\n",
    "    params = [W_xh, W_hh, b_h, W_hq, b_q]\n",
    "    for param in params:\n",
    "        param.requires_grad_(True)\n",
    "    return params"
   ]
  },
  {
   "cell_type": "markdown",
   "id": "826163b2",
   "metadata": {},
   "source": [
    "### 1.3 循环神经网络模型"
   ]
  },
  {
   "cell_type": "markdown",
   "id": "ef2eca8b",
   "metadata": {},
   "source": [
    "为了定义循环神经网络模型， 我们首先需要一个init_rnn_state函数在初始化时返回隐状态。 这个函数的返回是一个张量，张量全用0填充， 形状为（批量大小，隐藏单元数）。 在后面的章节中我们将会遇到隐状态包含多个变量的情况， 而使用元组可以更容易地处理些。"
   ]
  },
  {
   "cell_type": "code",
   "execution_count": 6,
   "id": "a8c3e1ae",
   "metadata": {
    "ExecuteTime": {
     "end_time": "2023-10-13T07:50:12.146433Z",
     "start_time": "2023-10-13T07:50:12.134397Z"
    }
   },
   "outputs": [],
   "source": [
    "def init_rnn_state(batch_size, num_hiddens, device):\n",
    "    return (torch.zeros((batch_size, num_hiddens), device=device), )"
   ]
  },
  {
   "cell_type": "markdown",
   "id": "c164580c",
   "metadata": {},
   "source": [
    "下面的rnn函数定义了如何在一个时间步内计算隐状态和输出。</br>\n",
    "循环神经网络模型通过inputs最外层的维度实现循环，以便逐时间步更新小批量数据的隐状态H。</br>\n",
    "此外，这里使用tanh函数作为激活函数。\n"
   ]
  },
  {
   "cell_type": "code",
   "execution_count": 16,
   "id": "14c89d23",
   "metadata": {
    "ExecuteTime": {
     "end_time": "2023-10-13T08:12:14.868321Z",
     "start_time": "2023-10-13T08:12:14.857350Z"
    }
   },
   "outputs": [],
   "source": [
    "def rnn(inputs, state, params):\n",
    "    # inputs的形状：(时间步数量，批量大小，词表大小)\n",
    "    W_xh, W_hh, b_h, W_hq, b_q = params\n",
    "    H, = state\n",
    "    outputs = []\n",
    "    # X的形状：(批量大小，词表大小)\n",
    "    # 对于每个时间步中的输入 X，它通过 RNN 的前向计算，更新隐藏状态 H 和计算输出 Y。\n",
    "    for X in inputs:\n",
    "        H = torch.tanh(torch.mm(X, W_xh) + torch.mm(H, W_hh) + b_h)\n",
    "        Y = torch.mm(H, W_hq) + b_q\n",
    "        outputs.append(Y)\n",
    "    # 最后，将所有时间步的输出连接起来，并返回形状为 (时间步数量 * 批量大小, 词表大小) 的输出张量，以及最终的隐藏状态。\n",
    "    return torch.cat(outputs, dim=0), (H,)"
   ]
  },
  {
   "cell_type": "markdown",
   "id": "abd65f58",
   "metadata": {},
   "source": [
    "定义了所有需要的函数之后，接下来我们创建一个类来包装这些函数， 并存储从零开始实现的循环神经网络模型的参数。"
   ]
  },
  {
   "cell_type": "code",
   "execution_count": 14,
   "id": "6dfad3ac",
   "metadata": {
    "ExecuteTime": {
     "end_time": "2023-10-13T08:09:57.169107Z",
     "start_time": "2023-10-13T08:09:57.161124Z"
    }
   },
   "outputs": [],
   "source": [
    "class RNNModelScratch:\n",
    "    \"\"\"从零开始实现的循环神经网络模型\"\"\"\n",
    "    def __init__(self, vocab_size, num_hiddens, device,\n",
    "                 get_params, init_state, forward_fn):\n",
    "        self.vocab_size, self.num_hiddens = vocab_size, num_hiddens\n",
    "        self.params = get_params(vocab_size, num_hiddens, device)\n",
    "        self.init_state, self.forward_fn = init_state, forward_fn\n",
    "\n",
    "    def __call__(self, X, state):\n",
    "        X = F.one_hot(X.T, self.vocab_size).type(torch.float32)\n",
    "        return self.forward_fn(X, state, self.params)\n",
    "\n",
    "    def begin_state(self, batch_size, device):\n",
    "        return self.init_state(batch_size, self.num_hiddens, device)"
   ]
  },
  {
   "cell_type": "markdown",
   "id": "ad76b264",
   "metadata": {},
   "source": [
    "检查输出是否具有正确的形状。 例如，隐状态的维数是否保持不变"
   ]
  },
  {
   "cell_type": "code",
   "execution_count": 17,
   "id": "d26be0c6",
   "metadata": {
    "ExecuteTime": {
     "end_time": "2023-10-13T08:12:29.633863Z",
     "start_time": "2023-10-13T08:12:17.361941Z"
    }
   },
   "outputs": [
    {
     "data": {
      "text/plain": [
       "(torch.Size([10, 28]), 1, torch.Size([2, 512]))"
      ]
     },
     "execution_count": 17,
     "metadata": {},
     "output_type": "execute_result"
    }
   ],
   "source": [
    "num_hiddens = 512\n",
    "net = RNNModelScratch(len(vocab), num_hiddens, d2l.try_gpu(), get_params,\n",
    "                      init_rnn_state, rnn)\n",
    "state = net.begin_state(X.shape[0], d2l.try_gpu())\n",
    "Y, new_state = net(X.to(d2l.try_gpu()), state)\n",
    "Y.shape, len(new_state), new_state[0].shape"
   ]
  },
  {
   "cell_type": "markdown",
   "id": "8840565a",
   "metadata": {},
   "source": [
    "我们可以看到输出形状是（时间步数 * 批量大小，词表大小）， 而隐状态形状保持不变，即（批量大小，隐藏单元数）"
   ]
  },
  {
   "cell_type": "markdown",
   "id": "31252a74",
   "metadata": {},
   "source": [
    "### 1.4 预测\n",
    "让我们首先定义预测函数来生成prefix之后的新字符， 其中的prefix是一个用户提供的包含多个字符的字符串。</br> \n",
    "在循环遍历prefix中的开始字符时， 我们不断地将隐状态传递到下一个时间步，但是不生成任何输出。这被称为预热（warm-up）期，因为在此期间模型会自我更新（例如，更新隐状态），但不会进行预测。 </br> \n",
    "预热期结束后，隐状态的值通常比刚开始的初始值更适合预测，从而预测字符并输出它们。</br> "
   ]
  },
  {
   "cell_type": "code",
   "execution_count": 25,
   "id": "a6bc5900",
   "metadata": {
    "ExecuteTime": {
     "end_time": "2023-10-13T08:47:25.755255Z",
     "start_time": "2023-10-13T08:47:25.746279Z"
    }
   },
   "outputs": [],
   "source": [
    "def predict_ch8(prefix, num_preds, net, vocab, device):\n",
    "    \"\"\"在prefix后面生成新字符\"\"\"\n",
    "    state = net.begin_state(batch_size=1, device=device)\n",
    "    #  outputs是一个列表，用于存储生成的字符的索引。首先，将前缀的第一个字符( 'prefix[0]\"）对应的索引加入outputs。\n",
    "    outputs = [vocab[prefix[0]]]\n",
    "\n",
    "    # 这行代码定义了一个匿名函数 get_input，用于获取下一个时间步的输入。\n",
    "    # 它从 outputs 中获取最后一个生成的字符的索引，将其转换为张量，并将其形状调整为 (1, 1)，以适应模型的输入要求。\n",
    "    def get_input(): return torch.tensor(\n",
    "        [outputs[-1]], device=device).reshape((1, 1))\n",
    "\n",
    "    for y in prefix[1:]:  # 预热期\n",
    "        _, state = net(get_input(), state)\n",
    "        outputs.append(vocab[y])\n",
    "    for _ in range(num_preds):  # 预测num_preds步\n",
    "        y, state = net(get_input(), state)\n",
    "        # 'y.argmax(dim=1)’的目的是找出RNN模型生成的概率分布中具有最高概率的字符的索引。这个操作可以用来选择在给定时间步生成的字符，即预测的字符。\n",
    "        # 通常，`y`是一个形状为`(1,vocab_size)的张量，其中‘vocab_size’表示词汇表的大小，每个元素对应一个可能的字符。'argmax(dim=1)’这个操作会沿着`dim=1’(水平维度）找出每行中具有最高值的索引。在这里，它的目的是找出在当前时间步具有最高概率的字符的索引。\n",
    "        outputs.append(int(y.argmax(dim=1).reshape(1)))\n",
    "    # 最后，生成的字符索引被转换为文本字符，并通过''.join()连接成一个字符串，返回生成的文本。\n",
    "    return ''.join([vocab.idx_to_token[i] for i in outputs])"
   ]
  },
  {
   "cell_type": "markdown",
   "id": "a87bfc59",
   "metadata": {},
   "source": [
    "现在可以测试predict_ch8函数。我们将前缀指定为time traveller，并基于这个前缀生成10个后续字符。鉴于我们还没有训练网络，它会生成荒谬的预测结果。"
   ]
  },
  {
   "cell_type": "code",
   "execution_count": 22,
   "id": "abceab5d",
   "metadata": {
    "ExecuteTime": {
     "end_time": "2023-10-13T08:29:27.803329Z",
     "start_time": "2023-10-13T08:29:27.752493Z"
    }
   },
   "outputs": [
    {
     "data": {
      "text/plain": [
       "'time traveller zwefpppppp'"
      ]
     },
     "execution_count": 22,
     "metadata": {},
     "output_type": "execute_result"
    }
   ],
   "source": [
    "predict_ch8('time traveller ', 10, net, vocab, d2l.try_gpu())"
   ]
  },
  {
   "cell_type": "markdown",
   "id": "819dfdae",
   "metadata": {},
   "source": [
    "### 1.5 梯度裁剪"
   ]
  },
  {
   "cell_type": "code",
   "execution_count": 24,
   "id": "2ef91357",
   "metadata": {
    "ExecuteTime": {
     "end_time": "2023-10-13T08:33:20.587928Z",
     "start_time": "2023-10-13T08:33:20.574976Z"
    }
   },
   "outputs": [],
   "source": [
    "def grad_clipping(net, theta):\n",
    "    \"\"\"裁剪梯度\"\"\"\n",
    "    if isinstance(net, nn.Module):\n",
    "        params = [p for p in net.parameters() if p.requires_grad]\n",
    "    else:\n",
    "        params = net.params\n",
    "    # 这行代码计算参数梯度的 L2 范数（欧几里得范数）。它遍历参数列表 params，计算每个参数的梯度的平方和，然后取平方根，得到梯度的 L2 范数。\n",
    "    norm = torch.sqrt(sum(torch.sum((p.grad ** 2)) for p in params))\n",
    "    if norm > theta:\n",
    "        # 这行代码对每个参数的梯度进行裁剪。具体地，它将参数的梯度按比例缩放，使梯度的范数等于‘theta'。这个操作确保梯度的范数不会超过指定的阈值`theta`。\n",
    "        for param in params:\n",
    "            param.grad[:] *= theta / norm"
   ]
  },
  {
   "cell_type": "markdown",
   "id": "bae0eaaf",
   "metadata": {},
   "source": [
    "### 1.6 训练\n",
    "在训练模型之前，让我们定义一个函数在一个迭代周期内训练模型。它与我们训练3.6节模型的方式有三个不同之处。</br> \n",
    "1.序列数据的不同采样方法(随机采样和顺序分区）将导致隐状态初始化的差异。</br> \n",
    "⒉.我们在更新模型参数之前裁剪梯度。这样的操作的目的是，即使训练过程中某个点上发生了梯度爆炸，也能保证模型不会发散。</br> \n",
    "3.我们用困惑度来评价模型。如8.4.4节所述，这样的度量确保了不同长度的序列具有可比性。</br> \n",
    "具体来说，当使用顺序分区时，我们只在每个迭代周期的开始位置初始化隐状态。由于下一个小批量数据中的第i个子序列样本与当前第i个子序列样本相邻，因此当前小批量数据最后一个样本的隐状态，将用于初始化下一个小批量数据第一个样本的隐状态。这样，存储在隐状态中的序列的历史信息可以在一个迭代周期内流经相邻的子序列。然而，在任何一点隐状态的计算，都依赖于同一迭代周期中前面所有的小批量数据，这使得梯度计算变得复杂。为了降低计算量，在处理任何一个小批量数据之前，我们先分离梯度，使得隐状态的梯度计算总是限制在一个小批量数据的时间步内。</br> \n",
    "当使用随机抽样时，因为每个样本都是在一个随机位置抽样的，因此需要为每个迭代周期重新初始化隐状态。与3.6节中的train_epoch_ch3函数相同，updater是更新模型参数的常用函数。它既可以是从头开始实现的d21.sgd函数，也可以是深度学习框架中内置的优化函数。\n"
   ]
  },
  {
   "cell_type": "code",
   "execution_count": 26,
   "id": "7a532e47",
   "metadata": {
    "ExecuteTime": {
     "end_time": "2023-10-13T08:52:10.087056Z",
     "start_time": "2023-10-13T08:52:10.067916Z"
    }
   },
   "outputs": [],
   "source": [
    "def train_epoch_ch8(net, train_iter, loss, updater, device, use_random_iter):\n",
    "    \"\"\"训练网络一个迭代周期（定义见第8章）\"\"\"\n",
    "    state, timer = None, d2l.Timer()\n",
    "    metric = d2l.Accumulator(2)  # 训练损失之和,词元数量\n",
    "    for X, Y in train_iter:\n",
    "        if state is None or use_random_iter:\n",
    "            # 在第一次迭代或使用随机抽样时初始化state\n",
    "            state = net.begin_state(batch_size=X.shape[0], device=device)\n",
    "        else:\n",
    "            if isinstance(net, nn.Module) and not isinstance(state, tuple):\n",
    "                # state对于nn.GRU是个张量\n",
    "                state.detach_()\n",
    "            else:\n",
    "                # state对于nn.LSTM或对于我们从零开始实现的模型是个张量\n",
    "                for s in state:\n",
    "                    s.detach_()\n",
    "        y = Y.T.reshape(-1)\n",
    "        X, y = X.to(device), y.to(device)\n",
    "        y_hat, state = net(X, state)\n",
    "        l = loss(y_hat, y.long()).mean()\n",
    "        if isinstance(updater, torch.optim.Optimizer):\n",
    "            updater.zero_grad()\n",
    "            l.backward()\n",
    "            grad_clipping(net, 1)\n",
    "            updater.step()\n",
    "        else:\n",
    "            l.backward()\n",
    "            grad_clipping(net, 1)\n",
    "            # 因为已经调用了mean函数\n",
    "            updater(batch_size=1)\n",
    "        metric.add(l * y.numel(), y.numel())\n",
    "    return math.exp(metric[0] / metric[1]), metric[1] / timer.stop()"
   ]
  },
  {
   "cell_type": "markdown",
   "id": "de837b44",
   "metadata": {},
   "source": [
    "循环神经网络模型的训练函数既支持从零开始实现， 也可以使用高级API来实现"
   ]
  },
  {
   "cell_type": "code",
   "execution_count": 27,
   "id": "43cf398c",
   "metadata": {
    "ExecuteTime": {
     "end_time": "2023-10-13T08:53:53.863041Z",
     "start_time": "2023-10-13T08:53:53.844116Z"
    }
   },
   "outputs": [],
   "source": [
    "def train_ch8(net, train_iter, vocab, lr, num_epochs, device,\n",
    "              use_random_iter=False):\n",
    "    \"\"\"训练模型（定义见第8章）\"\"\"\n",
    "    loss = nn.CrossEntropyLoss()\n",
    "    animator = d2l.Animator(xlabel='epoch', ylabel='perplexity',\n",
    "                            legend=['train'], xlim=[10, num_epochs])\n",
    "    # 初始化\n",
    "    if isinstance(net, nn.Module):\n",
    "        updater = torch.optim.SGD(net.parameters(), lr)\n",
    "    else:\n",
    "        def updater(batch_size): return d2l.sgd(net.params, lr, batch_size)\n",
    "\n",
    "    def predict(prefix): return predict_ch8(prefix, 50, net, vocab, device)\n",
    "    # 训练和预测\n",
    "    for epoch in range(num_epochs):\n",
    "        ppl, speed = train_epoch_ch8(\n",
    "            net, train_iter, loss, updater, device, use_random_iter)\n",
    "        if (epoch + 1) % 10 == 0:\n",
    "            print(predict('time traveller'))\n",
    "            animator.add(epoch + 1, [ppl])\n",
    "    print(f'困惑度 {ppl:.1f}, {speed:.1f} 词元/秒 {str(device)}')\n",
    "    print(predict('time traveller'))\n",
    "    print(predict('traveller'))"
   ]
  },
  {
   "cell_type": "markdown",
   "id": "31df21cf",
   "metadata": {},
   "source": [
    "现在，我们训练循环神经网络模型。 因为我们在数据集中只使用了10000个词元， 所以模型需要更多的迭代周期来更好地收敛。"
   ]
  },
  {
   "cell_type": "code",
   "execution_count": null,
   "id": "b0b829aa",
   "metadata": {},
   "outputs": [],
   "source": [
    "num_epochs, lr = 500, 1\n",
    "train_ch8(net, train_iter, vocab, lr, num_epochs, d2l.try_gpu())"
   ]
  },
  {
   "cell_type": "code",
   "execution_count": null,
   "id": "cab640b6",
   "metadata": {},
   "outputs": [],
   "source": []
  },
  {
   "cell_type": "markdown",
   "id": "12d5d9cc",
   "metadata": {},
   "source": [
    "## 2 循环神经网络的简洁实现"
   ]
  },
  {
   "cell_type": "code",
   "execution_count": null,
   "id": "3a98203d",
   "metadata": {},
   "outputs": [],
   "source": []
  }
 ],
 "metadata": {
  "kernelspec": {
   "display_name": "Python 3 (ipykernel)",
   "language": "python",
   "name": "python3"
  },
  "language_info": {
   "codemirror_mode": {
    "name": "ipython",
    "version": 3
   },
   "file_extension": ".py",
   "mimetype": "text/x-python",
   "name": "python",
   "nbconvert_exporter": "python",
   "pygments_lexer": "ipython3",
   "version": "3.9.17"
  }
 },
 "nbformat": 4,
 "nbformat_minor": 5
}
