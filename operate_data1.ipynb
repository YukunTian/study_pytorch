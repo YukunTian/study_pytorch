{
 "cells": [
  {
   "cell_type": "code",
   "execution_count": 2,
   "id": "ff9744e7",
   "metadata": {},
   "outputs": [],
   "source": [
    "import torch"
   ]
  },
  {
   "cell_type": "markdown",
   "id": "9e3c4bca",
   "metadata": {},
   "source": [
    "张量表示一个数值组成的数组，这个数组可能有多个维度"
   ]
  },
  {
   "cell_type": "code",
   "execution_count": 4,
   "id": "1f4a488c",
   "metadata": {},
   "outputs": [
    {
     "data": {
      "text/plain": [
       "tensor([ 0,  1,  2,  3,  4,  5,  6,  7,  8,  9, 10, 11])"
      ]
     },
     "execution_count": 4,
     "metadata": {},
     "output_type": "execute_result"
    }
   ],
   "source": [
    "x = torch.arange(12)\n",
    "x"
   ]
  },
  {
   "cell_type": "markdown",
   "id": "64bf3020",
   "metadata": {},
   "source": [
    "张量的shape属性访问张量的形状"
   ]
  },
  {
   "cell_type": "code",
   "execution_count": 5,
   "id": "267320db",
   "metadata": {},
   "outputs": [
    {
     "data": {
      "text/plain": [
       "torch.Size([12])"
      ]
     },
     "execution_count": 5,
     "metadata": {},
     "output_type": "execute_result"
    }
   ],
   "source": [
    "x.shape"
   ]
  },
  {
   "cell_type": "markdown",
   "id": "39de8e97",
   "metadata": {},
   "source": [
    "张量的numel属性访问张量中元素的总数"
   ]
  },
  {
   "cell_type": "code",
   "execution_count": 6,
   "id": "dfb6c2e8",
   "metadata": {},
   "outputs": [
    {
     "data": {
      "text/plain": [
       "12"
      ]
     },
     "execution_count": 6,
     "metadata": {},
     "output_type": "execute_result"
    }
   ],
   "source": [
    "x.numel()"
   ]
  },
  {
   "cell_type": "markdown",
   "id": "d557c8ff",
   "metadata": {},
   "source": [
    "改变一个张量的形状，但不改变元素的数量和元素值"
   ]
  },
  {
   "cell_type": "code",
   "execution_count": 8,
   "id": "57001424",
   "metadata": {},
   "outputs": [
    {
     "data": {
      "text/plain": [
       "tensor([[ 0,  1,  2,  3],\n",
       "        [ 4,  5,  6,  7],\n",
       "        [ 8,  9, 10, 11]])"
      ]
     },
     "execution_count": 8,
     "metadata": {},
     "output_type": "execute_result"
    }
   ],
   "source": [
    "x = x.reshape(3, 4)\n",
    "x"
   ]
  },
  {
   "cell_type": "markdown",
   "id": "6f6ec819",
   "metadata": {},
   "source": [
    "使用全0，全1，其他常量或者从特定分布中随机采样的数字"
   ]
  },
  {
   "cell_type": "code",
   "execution_count": 9,
   "id": "07a4edad",
   "metadata": {},
   "outputs": [
    {
     "data": {
      "text/plain": [
       "tensor([[[0., 0., 0., 0.],\n",
       "         [0., 0., 0., 0.],\n",
       "         [0., 0., 0., 0.]],\n",
       "\n",
       "        [[0., 0., 0., 0.],\n",
       "         [0., 0., 0., 0.],\n",
       "         [0., 0., 0., 0.]]])"
      ]
     },
     "execution_count": 9,
     "metadata": {},
     "output_type": "execute_result"
    }
   ],
   "source": [
    "torch.zeros((2, 3, 4))"
   ]
  },
  {
   "cell_type": "code",
   "execution_count": 10,
   "id": "e9f8df07",
   "metadata": {},
   "outputs": [
    {
     "data": {
      "text/plain": [
       "tensor([[[1., 1., 1., 1.],\n",
       "         [1., 1., 1., 1.],\n",
       "         [1., 1., 1., 1.]],\n",
       "\n",
       "        [[1., 1., 1., 1.],\n",
       "         [1., 1., 1., 1.],\n",
       "         [1., 1., 1., 1.]]])"
      ]
     },
     "execution_count": 10,
     "metadata": {},
     "output_type": "execute_result"
    }
   ],
   "source": [
    "torch.ones((2, 3, 4))"
   ]
  },
  {
   "cell_type": "markdown",
   "id": "fe6c5444",
   "metadata": {},
   "source": [
    "通过提供包含数值的python列表(或嵌套列表)来为所需张量中的每个元素赋予确定值"
   ]
  },
  {
   "cell_type": "code",
   "execution_count": 11,
   "id": "25ba972b",
   "metadata": {},
   "outputs": [
    {
     "data": {
      "text/plain": [
       "tensor([[2, 1, 4, 3],\n",
       "        [1, 2, 3, 4],\n",
       "        [4, 3, 2, 1]])"
      ]
     },
     "execution_count": 11,
     "metadata": {},
     "output_type": "execute_result"
    }
   ],
   "source": [
    "torch.tensor([[2, 1, 4, 3], [1, 2, 3, 4], [4, 3, 2, 1]])"
   ]
  },
  {
   "cell_type": "markdown",
   "id": "017af311",
   "metadata": {},
   "source": [
    "常见的标准算术运算符(+,-,*,/,**)都可以升级为按元素运算"
   ]
  },
  {
   "cell_type": "code",
   "execution_count": 12,
   "id": "00d7912b",
   "metadata": {},
   "outputs": [
    {
     "data": {
      "text/plain": [
       "(tensor([ 3.,  4.,  6., 10.]),\n",
       " tensor([-1.,  0.,  2.,  6.]),\n",
       " tensor([ 2.,  4.,  8., 16.]),\n",
       " tensor([0.5000, 1.0000, 2.0000, 4.0000]),\n",
       " tensor([ 1.,  4., 16., 64.]))"
      ]
     },
     "execution_count": 12,
     "metadata": {},
     "output_type": "execute_result"
    }
   ],
   "source": [
    "x = torch.tensor([1.0, 2, 4, 8])\n",
    "y = torch.tensor([2, 2, 2, 2])\n",
    "x+y, x-y, x*y, x/y, x**y"
   ]
  },
  {
   "cell_type": "markdown",
   "id": "45c1f501",
   "metadata": {},
   "source": [
    "指数"
   ]
  },
  {
   "cell_type": "code",
   "execution_count": 13,
   "id": "1a7db0c6",
   "metadata": {},
   "outputs": [
    {
     "data": {
      "text/plain": [
       "tensor([2.7183e+00, 7.3891e+00, 5.4598e+01, 2.9810e+03])"
      ]
     },
     "execution_count": 13,
     "metadata": {},
     "output_type": "execute_result"
    }
   ],
   "source": [
    "torch.exp(x)"
   ]
  },
  {
   "cell_type": "markdown",
   "id": "4058bc02",
   "metadata": {},
   "source": [
    "把多个张量连在一起"
   ]
  },
  {
   "cell_type": "code",
   "execution_count": 7,
   "id": "a609b0ae",
   "metadata": {},
   "outputs": [
    {
     "data": {
      "text/plain": [
       "(tensor([[ 0.,  1.,  2.,  3.],\n",
       "         [ 4.,  5.,  6.,  7.],\n",
       "         [ 8.,  9., 10., 11.],\n",
       "         [ 2.,  1.,  4.,  3.],\n",
       "         [ 1.,  2.,  3.,  4.],\n",
       "         [ 4.,  3.,  2.,  1.]]),\n",
       " tensor([[ 0.,  1.,  2.,  3.,  2.,  1.,  4.,  3.],\n",
       "         [ 4.,  5.,  6.,  7.,  1.,  2.,  3.,  4.],\n",
       "         [ 8.,  9., 10., 11.,  4.,  3.,  2.,  1.]]))"
      ]
     },
     "execution_count": 7,
     "metadata": {},
     "output_type": "execute_result"
    }
   ],
   "source": [
    "x = torch.arange(12, dtype=torch.float32).reshape((3, 4))\n",
    "y = torch.tensor([[2.0, 1, 4, 3], [1, 2, 3, 4], [4, 3, 2, 1]])\n",
    "# dim=0在第0维合并，即在行上合并 dim=1在第1维合并，即在列上合并\n",
    "torch.cat((x, y), dim=0), torch.cat((x, y), dim=1)"
   ]
  },
  {
   "cell_type": "code",
   "execution_count": 16,
   "id": "cd87729d",
   "metadata": {},
   "outputs": [
    {
     "name": "stdout",
     "output_type": "stream",
     "text": [
      "tensor([[[ 0.,  1.],\n",
      "         [ 2.,  3.],\n",
      "         [ 4.,  5.],\n",
      "         [ 6.,  7.]],\n",
      "\n",
      "        [[ 8.,  9.],\n",
      "         [10., 11.],\n",
      "         [12., 13.],\n",
      "         [14., 15.]],\n",
      "\n",
      "        [[16., 17.],\n",
      "         [18., 19.],\n",
      "         [20., 21.],\n",
      "         [22., 23.]]])\n",
      "tensor([[[1., 1.],\n",
      "         [1., 1.],\n",
      "         [1., 1.],\n",
      "         [1., 1.]],\n",
      "\n",
      "        [[1., 1.],\n",
      "         [1., 1.],\n",
      "         [1., 1.],\n",
      "         [1., 1.]],\n",
      "\n",
      "        [[1., 1.],\n",
      "         [1., 1.],\n",
      "         [1., 1.],\n",
      "         [1., 1.]]])\n"
     ]
    },
    {
     "data": {
      "text/plain": [
       "(tensor([[[ 0.,  1.],\n",
       "          [ 2.,  3.],\n",
       "          [ 4.,  5.],\n",
       "          [ 6.,  7.]],\n",
       " \n",
       "         [[ 8.,  9.],\n",
       "          [10., 11.],\n",
       "          [12., 13.],\n",
       "          [14., 15.]],\n",
       " \n",
       "         [[16., 17.],\n",
       "          [18., 19.],\n",
       "          [20., 21.],\n",
       "          [22., 23.]],\n",
       " \n",
       "         [[ 1.,  1.],\n",
       "          [ 1.,  1.],\n",
       "          [ 1.,  1.],\n",
       "          [ 1.,  1.]],\n",
       " \n",
       "         [[ 1.,  1.],\n",
       "          [ 1.,  1.],\n",
       "          [ 1.,  1.],\n",
       "          [ 1.,  1.]],\n",
       " \n",
       "         [[ 1.,  1.],\n",
       "          [ 1.,  1.],\n",
       "          [ 1.,  1.],\n",
       "          [ 1.,  1.]]]),\n",
       " tensor([[[ 0.,  1.],\n",
       "          [ 2.,  3.],\n",
       "          [ 4.,  5.],\n",
       "          [ 6.,  7.],\n",
       "          [ 1.,  1.],\n",
       "          [ 1.,  1.],\n",
       "          [ 1.,  1.],\n",
       "          [ 1.,  1.]],\n",
       " \n",
       "         [[ 8.,  9.],\n",
       "          [10., 11.],\n",
       "          [12., 13.],\n",
       "          [14., 15.],\n",
       "          [ 1.,  1.],\n",
       "          [ 1.,  1.],\n",
       "          [ 1.,  1.],\n",
       "          [ 1.,  1.]],\n",
       " \n",
       "         [[16., 17.],\n",
       "          [18., 19.],\n",
       "          [20., 21.],\n",
       "          [22., 23.],\n",
       "          [ 1.,  1.],\n",
       "          [ 1.,  1.],\n",
       "          [ 1.,  1.],\n",
       "          [ 1.,  1.]]]),\n",
       " tensor([[[ 0.,  1.,  1.,  1.],\n",
       "          [ 2.,  3.,  1.,  1.],\n",
       "          [ 4.,  5.,  1.,  1.],\n",
       "          [ 6.,  7.,  1.,  1.]],\n",
       " \n",
       "         [[ 8.,  9.,  1.,  1.],\n",
       "          [10., 11.,  1.,  1.],\n",
       "          [12., 13.,  1.,  1.],\n",
       "          [14., 15.,  1.,  1.]],\n",
       " \n",
       "         [[16., 17.,  1.,  1.],\n",
       "          [18., 19.,  1.,  1.],\n",
       "          [20., 21.,  1.,  1.],\n",
       "          [22., 23.,  1.,  1.]]]))"
      ]
     },
     "execution_count": 16,
     "metadata": {},
     "output_type": "execute_result"
    }
   ],
   "source": [
    "x = torch.arange(24, dtype=torch.float32).reshape((3, 4, 2))\n",
    "y = torch.ones((3, 4, 2))\n",
    "print(x)\n",
    "print(y)\n",
    "#dim=0 3,4,2变6，4，2 dim=1 行 3,4,2变 3，8，2  dim=2 列 3,4,2变3，4，4\n",
    "torch.cat((x, y), dim=0), torch.cat((x, y), dim=1), torch.cat((x, y), dim=2)#"
   ]
  },
  {
   "cell_type": "markdown",
   "id": "216b8daf",
   "metadata": {},
   "source": [
    "对张量中所有元素进行求和 产生只有一个元素的张量"
   ]
  },
  {
   "cell_type": "code",
   "execution_count": 17,
   "id": "df7233b4",
   "metadata": {},
   "outputs": [
    {
     "data": {
      "text/plain": [
       "tensor(66.)"
      ]
     },
     "execution_count": 17,
     "metadata": {},
     "output_type": "execute_result"
    }
   ],
   "source": [
    "x = torch.arange(12, dtype=torch.float32).reshape((3, 4))\n",
    "x.sum()"
   ]
  },
  {
   "cell_type": "markdown",
   "id": "4f10b841",
   "metadata": {},
   "source": [
    "即使形状不同，也可以调用广播机制（broadcasting mechanism）来执行元素操作"
   ]
  },
  {
   "cell_type": "code",
   "execution_count": 18,
   "id": "9d341f64",
   "metadata": {},
   "outputs": [
    {
     "data": {
      "text/plain": [
       "(tensor([[0],\n",
       "         [1],\n",
       "         [2]]),\n",
       " tensor([[0, 1]]))"
      ]
     },
     "execution_count": 18,
     "metadata": {},
     "output_type": "execute_result"
    }
   ],
   "source": [
    "a = torch.arange(3).reshape(3, 1)\n",
    "b = torch.arange(2).reshape(1, 2)\n",
    "a, b"
   ]
  },
  {
   "cell_type": "code",
   "execution_count": 19,
   "id": "4aeb9677",
   "metadata": {},
   "outputs": [
    {
     "data": {
      "text/plain": [
       "tensor([[0, 1],\n",
       "        [1, 2],\n",
       "        [2, 3]])"
      ]
     },
     "execution_count": 19,
     "metadata": {},
     "output_type": "execute_result"
    }
   ],
   "source": [
    "a + b #把a复制成3*2的矩阵(复制列) b复制成3*2的矩阵(复制行)"
   ]
  },
  {
   "cell_type": "markdown",
   "id": "19993d94",
   "metadata": {},
   "source": [
    "可以用[-1]选择最后一个元素 [1:3]选择第二个和第三个元素"
   ]
  },
  {
   "cell_type": "code",
   "execution_count": 21,
   "id": "a8e44ce5",
   "metadata": {},
   "outputs": [
    {
     "data": {
      "text/plain": [
       "(tensor([ 8.,  9., 10., 11.]),\n",
       " tensor([[ 4.,  5.,  6.,  7.],\n",
       "         [ 8.,  9., 10., 11.]]))"
      ]
     },
     "execution_count": 21,
     "metadata": {},
     "output_type": "execute_result"
    }
   ],
   "source": [
    "x[-1],x[1:3]"
   ]
  },
  {
   "cell_type": "code",
   "execution_count": 22,
   "id": "6df1ffd9",
   "metadata": {},
   "outputs": [
    {
     "data": {
      "text/plain": [
       "tensor(11.)"
      ]
     },
     "execution_count": 22,
     "metadata": {},
     "output_type": "execute_result"
    }
   ],
   "source": [
    "x[-1,-1]"
   ]
  },
  {
   "cell_type": "code",
   "execution_count": 24,
   "id": "d5f23bce",
   "metadata": {},
   "outputs": [
    {
     "data": {
      "text/plain": [
       "tensor([[ 6.,  7.],\n",
       "        [10., 11.]])"
      ]
     },
     "execution_count": 24,
     "metadata": {},
     "output_type": "execute_result"
    }
   ],
   "source": [
    "x[1:3,2:4]"
   ]
  },
  {
   "cell_type": "markdown",
   "id": "38d7c56c",
   "metadata": {},
   "source": [
    "为多个元素赋相同的值，只需要引索所有元素，然后为他们赋值"
   ]
  },
  {
   "cell_type": "code",
   "execution_count": 25,
   "id": "5c530fd8",
   "metadata": {},
   "outputs": [
    {
     "data": {
      "text/plain": [
       "tensor([[12., 12., 12., 12.],\n",
       "        [12., 12., 12., 12.],\n",
       "        [ 8.,  9., 10., 11.]])"
      ]
     },
     "execution_count": 25,
     "metadata": {},
     "output_type": "execute_result"
    }
   ],
   "source": [
    "x[0:2,:]=12\n",
    "x"
   ]
  },
  {
   "cell_type": "markdown",
   "id": "652e4cf0",
   "metadata": {},
   "source": [
    "运行一些操作可能会导致为新结果分配内存"
   ]
  },
  {
   "cell_type": "code",
   "execution_count": 27,
   "id": "475966a0",
   "metadata": {},
   "outputs": [
    {
     "data": {
      "text/plain": [
       "False"
      ]
     },
     "execution_count": 27,
     "metadata": {},
     "output_type": "execute_result"
    }
   ],
   "source": [
    "y = torch.tensor([[2.0, 1, 4, 3], [1, 2, 3, 4], [4, 3, 2, 1]])\n",
    "before = id(y)\n",
    "y = y+x\n",
    "id(y) == before"
   ]
  },
  {
   "cell_type": "markdown",
   "id": "15e95024",
   "metadata": {},
   "source": [
    "执行原地操作"
   ]
  },
  {
   "cell_type": "code",
   "execution_count": 29,
   "id": "3bd7f652",
   "metadata": {},
   "outputs": [
    {
     "name": "stdout",
     "output_type": "stream",
     "text": [
      "id(z): 2130864917936\n",
      "id(z): 2130864917936\n"
     ]
    }
   ],
   "source": [
    "z = torch.zeros_like(y)\n",
    "print('id(z):', id(z))\n",
    "z[:] = x+y\n",
    "print('id(z):', id(z))"
   ]
  },
  {
   "cell_type": "markdown",
   "id": "fc2d5143",
   "metadata": {},
   "source": [
    "如果在后续操作中没有重复使用x，我们也可以使用x[:]=x+y或x+=y来减少内存的开销"
   ]
  },
  {
   "cell_type": "code",
   "execution_count": 30,
   "id": "604597e9",
   "metadata": {},
   "outputs": [
    {
     "data": {
      "text/plain": [
       "True"
      ]
     },
     "execution_count": 30,
     "metadata": {},
     "output_type": "execute_result"
    }
   ],
   "source": [
    "before = id(x)\n",
    "x += y\n",
    "id(x) == before"
   ]
  },
  {
   "cell_type": "markdown",
   "id": "8f7a9072",
   "metadata": {},
   "source": [
    "转换为numpy张量"
   ]
  },
  {
   "cell_type": "code",
   "execution_count": 32,
   "id": "4a2b39f7",
   "metadata": {},
   "outputs": [
    {
     "data": {
      "text/plain": [
       "(numpy.ndarray, torch.Tensor)"
      ]
     },
     "execution_count": 32,
     "metadata": {},
     "output_type": "execute_result"
    }
   ],
   "source": [
    "a = x.numpy()\n",
    "b = torch.tensor(a)\n",
    "type(a), type(b)"
   ]
  },
  {
   "cell_type": "markdown",
   "id": "6fd529cb",
   "metadata": {},
   "source": [
    "将大小为1的张量转换为python标量"
   ]
  },
  {
   "cell_type": "code",
   "execution_count": 34,
   "id": "57cf392f",
   "metadata": {},
   "outputs": [
    {
     "data": {
      "text/plain": [
       "(tensor([3.5000]), 3.5, 3.5, 3)"
      ]
     },
     "execution_count": 34,
     "metadata": {},
     "output_type": "execute_result"
    }
   ],
   "source": [
    "a=torch.tensor([3.5])\n",
    "a,a.item(),float(a), int(a)"
   ]
  },
  {
   "cell_type": "markdown",
   "id": "a09df8aa",
   "metadata": {},
   "source": [
    "B相当于A的视图view 所以改B A也变了"
   ]
  },
  {
   "cell_type": "code",
   "execution_count": 3,
   "id": "3f052de5",
   "metadata": {},
   "outputs": [
    {
     "data": {
      "text/plain": [
       "tensor([2, 2, 2, 2, 2, 2, 2, 2, 2, 2, 2, 2])"
      ]
     },
     "execution_count": 3,
     "metadata": {},
     "output_type": "execute_result"
    }
   ],
   "source": [
    "import torch\n",
    "a=torch.arange(12)\n",
    "b=a.reshape((3,4))\n",
    "b[:]=2\n",
    "a"
   ]
  },
  {
   "cell_type": "code",
   "execution_count": null,
   "id": "fdd2b933",
   "metadata": {},
   "outputs": [],
   "source": []
  }
 ],
 "metadata": {
  "kernelspec": {
   "display_name": "Python 3 (ipykernel)",
   "language": "python",
   "name": "python3"
  },
  "language_info": {
   "codemirror_mode": {
    "name": "ipython",
    "version": 3
   },
   "file_extension": ".py",
   "mimetype": "text/x-python",
   "name": "python",
   "nbconvert_exporter": "python",
   "pygments_lexer": "ipython3",
   "version": "3.9.17"
  }
 },
 "nbformat": 4,
 "nbformat_minor": 5
}
