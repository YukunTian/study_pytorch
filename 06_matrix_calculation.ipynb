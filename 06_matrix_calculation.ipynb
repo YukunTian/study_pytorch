{
 "cells": [
  {
   "cell_type": "markdown",
   "id": "4990b9a9",
   "metadata": {},
   "source": [
    "# 自动求导\n",
    "假设我们想对函数 $y=2x^Tx$ 关于列向量x求导"
   ]
  },
  {
   "cell_type": "code",
   "execution_count": 4,
   "id": "5a0cc1bf",
   "metadata": {},
   "outputs": [
    {
     "data": {
      "text/plain": [
       "tensor([0., 1., 2., 3.])"
      ]
     },
     "execution_count": 4,
     "metadata": {},
     "output_type": "execute_result"
    }
   ],
   "source": [
    "import torch\n",
    "\n",
    "x = torch.arange(4.0)\n",
    "x"
   ]
  },
  {
   "cell_type": "markdown",
   "id": "bec445a4",
   "metadata": {},
   "source": [
    "在计算y关于x的梯度之前，需要一个地方来存储梯度"
   ]
  },
  {
   "cell_type": "code",
   "execution_count": 5,
   "id": "c488ee32",
   "metadata": {},
   "outputs": [],
   "source": [
    "x.requires_grad_(True)  # 等价于 x=torch.arange(4.0, requires_grad=True)\n",
    "x.grad  # 访问梯度 默认值是None"
   ]
  },
  {
   "cell_type": "markdown",
   "id": "bf3d345c",
   "metadata": {},
   "source": [
    "现在计算y"
   ]
  },
  {
   "cell_type": "code",
   "execution_count": 6,
   "id": "76d2cc4c",
   "metadata": {},
   "outputs": [
    {
     "data": {
      "text/plain": [
       "tensor(28., grad_fn=<MulBackward0>)"
      ]
     },
     "execution_count": 6,
     "metadata": {},
     "output_type": "execute_result"
    }
   ],
   "source": [
    "y = 2*torch.dot(x, x)  # 点积是相同位置的按元素乘积的和\n",
    "y"
   ]
  },
  {
   "cell_type": "markdown",
   "id": "bd3f8f60",
   "metadata": {},
   "source": [
    "通过调用反向传播函数 自动计算y关于x每个分量的梯度"
   ]
  },
  {
   "cell_type": "code",
   "execution_count": 7,
   "id": "9bd395bd",
   "metadata": {},
   "outputs": [
    {
     "data": {
      "text/plain": [
       "tensor([ 0.,  4.,  8., 12.])"
      ]
     },
     "execution_count": 7,
     "metadata": {},
     "output_type": "execute_result"
    }
   ],
   "source": [
    "y.backward()\n",
    "x.grad"
   ]
  },
  {
   "cell_type": "code",
   "execution_count": 8,
   "id": "4a2d3041",
   "metadata": {},
   "outputs": [
    {
     "data": {
      "text/plain": [
       "tensor([True, True, True, True])"
      ]
     },
     "execution_count": 8,
     "metadata": {},
     "output_type": "execute_result"
    }
   ],
   "source": [
    "x.grad == 4*x"
   ]
  },
  {
   "cell_type": "code",
   "execution_count": 11,
   "id": "a69c3653",
   "metadata": {},
   "outputs": [
    {
     "data": {
      "text/plain": [
       "tensor([1., 1., 1., 1.])"
      ]
     },
     "execution_count": 11,
     "metadata": {},
     "output_type": "execute_result"
    }
   ],
   "source": [
    "# 在默认情况下，pytorch会累积梯度，我们需要清除之前的值\n",
    "x.grad.zero_()\n",
    "y = x.sum()\n",
    "y.backward()\n",
    "x.grad"
   ]
  },
  {
   "cell_type": "markdown",
   "id": "fa16c6d4",
   "metadata": {},
   "source": [
    "深度学习中 目的不是计算微分矩阵 而且批量中每个样本单独计算的偏导数之和 一般都是对标量求导"
   ]
  },
  {
   "cell_type": "code",
   "execution_count": 14,
   "id": "d0ebc614",
   "metadata": {},
   "outputs": [
    {
     "data": {
      "text/plain": [
       "tensor([0., 2., 4., 6.])"
      ]
     },
     "execution_count": 14,
     "metadata": {},
     "output_type": "execute_result"
    }
   ],
   "source": [
    "# 对于非标量用 backward 需要传入一个 gradient 参数，该参数指定\n",
    "x.grad.zero_()\n",
    "y = x*x\n",
    "# 等价于y.backward(torch.ones(len(x)))\n",
    "y.sum().backward()  # 先得到 y=x1**2+x2**2+x3**2+x4**2, 然后再分别求导?\n",
    "x.grad"
   ]
  },
  {
   "cell_type": "markdown",
   "id": "f7cc6fb2",
   "metadata": {},
   "source": [
    "将某些计算移动到记录的计算图以外"
   ]
  },
  {
   "cell_type": "code",
   "execution_count": 15,
   "id": "d922e259",
   "metadata": {},
   "outputs": [
    {
     "data": {
      "text/plain": [
       "tensor([True, True, True, True])"
      ]
     },
     "execution_count": 15,
     "metadata": {},
     "output_type": "execute_result"
    }
   ],
   "source": [
    "x.grad.zero_()\n",
    "y = x*x\n",
    "u = y.detach() #让u不再是x的函数 视为常数\n",
    "z = u*x\n",
    "z.sum().backward()\n",
    "x.grad == u"
   ]
  },
  {
   "cell_type": "code",
   "execution_count": 16,
   "id": "9df76d96",
   "metadata": {},
   "outputs": [
    {
     "data": {
      "text/plain": [
       "tensor([True, True, True, True])"
      ]
     },
     "execution_count": 16,
     "metadata": {},
     "output_type": "execute_result"
    }
   ],
   "source": [
    "x.grad.zero_()\n",
    "y.sum().backward()\n",
    "x.grad == 2*x"
   ]
  },
  {
   "cell_type": "markdown",
   "id": "b71434c6",
   "metadata": {},
   "source": [
    "即使构建函数的计算图需要通过Python控制流（例如，条件，循环或任意函数调用)，我们仍然可以计算得到的变量的梯度"
   ]
  },
  {
   "cell_type": "code",
   "execution_count": 20,
   "id": "d4420826",
   "metadata": {},
   "outputs": [
    {
     "data": {
      "text/plain": [
       "tensor(True)"
      ]
     },
     "execution_count": 20,
     "metadata": {},
     "output_type": "execute_result"
    }
   ],
   "source": [
    "def f(a):\n",
    "    b = a*2\n",
    "    while b.norm() < 1000:  # norm 范数\n",
    "        b = b*2\n",
    "    if b.sum() > 0:\n",
    "        c = b\n",
    "    else:\n",
    "        c = 100*b\n",
    "    return c\n",
    "\n",
    "\n",
    "a = torch.randn(size=(), requires_grad=True)\n",
    "d = f(a)\n",
    "d.backward()\n",
    "\n",
    "a.grad == d/a"
   ]
  },
  {
   "cell_type": "markdown",
   "id": "37c8c93f",
   "metadata": {},
   "source": [
    "a= torch.randn(size=(),requires_grad=True)\n",
    "d = f(a)           \n",
    "# 看完函数f(a)    得d=f(a)=c,    c为b   或者  b*100\n",
    "# 且 b 为a*2  或者   a*(n个2      2n=实数)\n",
    "# 综上得  d  最终结果都是   此处用A代表实数   a*A  \n",
    "# 则   d=f(a)=Aa\n",
    "# 对 d  求导得 A\n",
    "d.backward()\n",
    "a.grad == d/a\n",
    "# d=Aa  故d/a = 实数A     a的导数   a.grad  =  实数A"
   ]
  }
 ],
 "metadata": {
  "kernelspec": {
   "display_name": "Python 3 (ipykernel)",
   "language": "python",
   "name": "python3"
  },
  "language_info": {
   "codemirror_mode": {
    "name": "ipython",
    "version": 3
   },
   "file_extension": ".py",
   "mimetype": "text/x-python",
   "name": "python",
   "nbconvert_exporter": "python",
   "pygments_lexer": "ipython3",
   "version": "3.9.17"
  }
 },
 "nbformat": 4,
 "nbformat_minor": 5
}
