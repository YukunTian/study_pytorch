{
 "cells": [
  {
   "cell_type": "markdown",
   "id": "c0e64c1c",
   "metadata": {},
   "source": [
    "#  数值稳定性和模型初始化"
   ]
  },
  {
   "cell_type": "markdown",
   "id": "3b1daaf4",
   "metadata": {},
   "source": [
    "# 一、\n",
    "##### 目标：让梯度在合理的范围内 \n",
    "例如[1e-,1e3]\n",
    "##### 1.将加法变成乘法\n",
    "ResNet LSTM\n",
    "##### 2.归一化\n",
    "梯度归一化 梯度裁剪\n",
    "##### 3.合理的权重初始化和激活函数"
   ]
  },
  {
   "cell_type": "markdown",
   "id": "ecd55553",
   "metadata": {},
   "source": [
    "# 二、\n",
    "##### 让每层的方差是一个常数\n",
    "将每层的输出和梯度都看做随机变量</br>\n",
    "让它们的均值和方差都保持一致"
   ]
  },
  {
   "cell_type": "markdown",
   "id": "be35950e",
   "metadata": {},
   "source": [
    "# 三、\n",
    "### 权重初始化\n",
    "##### 在合理值区间里随机初始参数\n",
    "##### 训练开始的时候更容易有数值不稳定\n",
    "远离最优解的地方损失函数表面可能很复杂，最优解附近表面会比较平\n",
    "##### 使用N(O,0.01)来初始可能对小网络没问题，但不能保证深度神经网络"
   ]
  },
  {
   "attachments": {},
   "cell_type": "markdown",
   "id": "60061ab8",
   "metadata": {},
   "source": [
    "# 四、\n",
    "#####  Xavier初始化\n",
    "难以满足$n_{t-1}\\gamma_{t}=1$和$n_{t}\\gamma_{t}=1$ </br>\n",
    "Xavier使得$\\gamma_{t}(n_{t-1}+n_{t})/2=1$  --> $\\gamma_{t}=2/(n_{t-1}+n_{t})$ </br>\n",
    "&ensp;&ensp;正态分布 $N(0,\\sqrt{2/(n_{t-1}+n_{t})})$ </br>\n",
    "&ensp;&ensp;均匀分布 $U(-\\sqrt{6/(n_{t-1}+n_{t})},\\sqrt{6/(n_{t-1}+n_{t})})$</br>\n",
    "&ensp;&ensp;&ensp;分布 $U[-a,a]$和方差是$a^2/3$</br>\n",
    "适配权重形状变换，特别是$n_{t}$\n",
    "##### t层的方差=2/(t层的输入+输出)"
   ]
  },
  {
   "cell_type": "markdown",
   "id": "78b12018",
   "metadata": {},
   "source": [
    "# 合理的权重初始值和激活函数的选取可以提升数值稳定性\n"
   ]
  },
  {
   "cell_type": "code",
   "execution_count": null,
   "id": "93f1b3ba",
   "metadata": {},
   "outputs": [],
   "source": []
  }
 ],
 "metadata": {
  "kernelspec": {
   "display_name": "Python 3 (ipykernel)",
   "language": "python",
   "name": "python3"
  },
  "language_info": {
   "codemirror_mode": {
    "name": "ipython",
    "version": 3
   },
   "file_extension": ".py",
   "mimetype": "text/x-python",
   "name": "python",
   "nbconvert_exporter": "python",
   "pygments_lexer": "ipython3",
   "version": "3.9.16"
  }
 },
 "nbformat": 4,
 "nbformat_minor": 5
}
